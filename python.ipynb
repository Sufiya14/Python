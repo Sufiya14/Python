{
  "nbformat": 4,
  "nbformat_minor": 0,
  "metadata": {
    "colab": {
      "name": "python.ipynb",
      "provenance": []
    },
    "kernelspec": {
      "name": "python3",
      "display_name": "Python 3"
    }
  },
  "cells": [
    {
      "cell_type": "code",
      "metadata": {
        "colab": {
          "base_uri": "https://localhost:8080/"
        },
        "id": "0YX0ln7yDQ1A",
        "outputId": "09090f71-7abe-49ed-ddbf-9da908b43d17"
      },
      "source": [
        "print(\"hello\") # print hello \n",
        " \n",
        "a=int(input(\"Enter first number \")) # Enter first number\n",
        "b=int(input( \"Enter second number \")) #Enter second number\n",
        "c=a+b\n",
        "print(c) #print sum of two numbers"
      ],
      "execution_count": null,
      "outputs": [
        {
          "output_type": "stream",
          "text": [
            "hello\n",
            "Enter first number 4\n",
            "Enter second number 8\n",
            "12\n"
          ],
          "name": "stdout"
        }
      ]
    },
    {
      "cell_type": "code",
      "metadata": {
        "colab": {
          "base_uri": "https://localhost:8080/"
        },
        "id": "gO3b4iodE_-Q",
        "outputId": "91486bcd-e8e1-49c8-b233-f4f2114b9621"
      },
      "source": [
        "\n",
        "# To identify type of variable\n",
        "a=5\n",
        "print(type(a))"
      ],
      "execution_count": null,
      "outputs": [
        {
          "output_type": "stream",
          "text": [
            "<class 'int'>\n"
          ],
          "name": "stdout"
        }
      ]
    },
    {
      "cell_type": "code",
      "metadata": {
        "colab": {
          "base_uri": "https://localhost:8080/"
        },
        "id": "cs7JQIvPE__W",
        "outputId": "69a3a25c-22e7-43dc-9f7f-89b69aaf532f"
      },
      "source": [
        " \n",
        "# To identify type of different variable\n",
        "a=3.2\n",
        "c='a'\n",
        "b=[]\n",
        "d={\"a\"}\n",
        "e=()\n",
        "f=3+5j\n",
        "g={\"a\":1}\n",
        "print(type(c),type(b),type(d),type(e),type(f),type(a),type(g))"
      ],
      "execution_count": null,
      "outputs": [
        {
          "output_type": "stream",
          "text": [
            "<class 'str'> <class 'list'> <class 'set'> <class 'tuple'> <class 'complex'> <class 'float'> <class 'dict'>\n"
          ],
          "name": "stdout"
        }
      ]
    },
    {
      "cell_type": "code",
      "metadata": {
        "colab": {
          "base_uri": "https://localhost:8080/"
        },
        "id": "qD-cQ9jHMhLk",
        "outputId": "dc36a553-f949-49df-f170-7e490d982efb"
      },
      "source": [
        "\n",
        "# To print sum of elements in a list\n",
        "a=[2,3,4,1,3,5,0]\n",
        "print(sum(a))"
      ],
      "execution_count": null,
      "outputs": [
        {
          "output_type": "stream",
          "text": [
            "18\n"
          ],
          "name": "stdout"
        }
      ]
    },
    {
      "cell_type": "code",
      "metadata": {
        "colab": {
          "base_uri": "https://localhost:8080/"
        },
        "id": "qS2WyX_GMhM1",
        "outputId": "d5100cfb-0992-465d-c6a2-caa9d7069a3d"
      },
      "source": [
        " \n",
        "# input your name \n",
        "a=input(\"Enter  your name \")\n",
        "print(a)\n",
        " \n",
        "b=int(input(\"enter the value of b \"))\n",
        "c=int(input(\"enter the value of c \"))\n",
        "d=c+b\n",
        "print(d)"
      ],
      "execution_count": null,
      "outputs": [
        {
          "output_type": "stream",
          "text": [
            "Enter  your name Sufiya\n",
            "Sufiya\n",
            "enter the value of b 6\n",
            "enter the value of c 7\n",
            "13\n"
          ],
          "name": "stdout"
        }
      ]
    },
    {
      "cell_type": "code",
      "metadata": {
        "colab": {
          "base_uri": "https://localhost:8080/"
        },
        "id": "MLdL_BcFMhOI",
        "outputId": "53c412ec-061b-440b-e8dc-9fbfc7288beb"
      },
      "source": [
        " \n",
        "# Calculator\n",
        "a=int(input(\"Enter first number \"))\n",
        "b=int(input(\"Enter second number \"))\n",
        "print(\"sum subtract multiply division modulus\")\n",
        "print(a+b ,a-b ,a*b ,a/b ,a%b )"
      ],
      "execution_count": null,
      "outputs": [
        {
          "output_type": "stream",
          "text": [
            "Enter first number 6\n"
          ],
          "name": "stdout"
        }
      ]
    },
    {
      "cell_type": "code",
      "metadata": {
        "colab": {
          "base_uri": "https://localhost:8080/"
        },
        "id": "49p7DDwBRYkx",
        "outputId": "f8959564-bfcf-4ba6-b892-b75ea5322fe6"
      },
      "source": [
        " \n",
        "# To calculate ut+(1/2)at^2\n",
        "t=int(input(\"Enter time \"))\n",
        "u=int(input(\"Enter initial velocity \"))\n",
        "a=int(input(\"Enter acceleration \"))\n",
        "print((u*t+(1/2)*a*t*t))"
      ],
      "execution_count": null,
      "outputs": [
        {
          "output_type": "stream",
          "text": [
            "Enter time 5\n",
            "Enter initial velocity 6\n",
            "Enter acceleration 2\n",
            "55.0\n"
          ],
          "name": "stdout"
        }
      ]
    },
    {
      "cell_type": "code",
      "metadata": {
        "colab": {
          "base_uri": "https://localhost:8080/"
        },
        "id": "NdkDNcliXt3b",
        "outputId": "ebd87436-670b-4cb3-c08f-8c043aaa59b5"
      },
      "source": [
        " a=1                          #integer\n",
        "b=1.2                        #float\n",
        "c='str'                      #string\n",
        "d=[]                         #list\n",
        "e=()                         #tuple\n",
        "f={\"rt\"}                     #set\n",
        "g={c:5}                    #dictionary\n",
        "i=1+2j                 #complex number\n",
        "k=True                       #boolean   \n",
        "i= frozenset((a,b))       #frozen set \n",
        "l=bytes(1)                #bytes\n",
        "o=bytearray(a)            #bytearray \n",
        "m=memoryview(bytes(9))   #memory view\n",
        "n=range(1,2)              #range\n",
        "print(type(a),type(b),type(c),type(d),type(e),type(f),type(g),type(i),type(k),type(i),type(l),type(o),type(m),type(n))\n",
        "print(id(a),id(b),id(c),id(d),id(e),id(f),id(g),id(i),id(k),id(i),id(l),id(o),id(m),id(n))"
      ],
      "execution_count": null,
      "outputs": [
        {
          "output_type": "stream",
          "text": [
            "<class 'int'> <class 'float'> <class 'str'> <class 'list'> <class 'tuple'> <class 'set'> <class 'dict'> <class 'frozenset'> <class 'bool'> <class 'frozenset'> <class 'bytes'> <class 'bytearray'> <class 'memoryview'> <class 'range'>\n",
            "94265054886400 140000852285904 140001409717552 140000861410640 140001409962064 140000860933488 140000851797728 140000860930368 94265054212352 140000860930368 140000851313984 140000851614832 140000860814464 140000851313840\n"
          ],
          "name": "stdout"
        }
      ]
    },
    {
      "cell_type": "code",
      "metadata": {
        "id": "rASoBOTIRYme",
        "colab": {
          "base_uri": "https://localhost:8080/",
          "height": 148
        },
        "outputId": "d6f5f0ff-8607-4cce-88b8-6ceb4fe1beea"
      },
      "source": [
        " \n",
        "# To check an identifier is valid or not.\n",
        "abc=2 \n",
        "_a=2\n",
        "1xc=3\n",
        "0a=3\n",
        "Td=4"
      ],
      "execution_count": null,
      "outputs": [
        {
          "output_type": "error",
          "ename": "SyntaxError",
          "evalue": "ignored",
          "traceback": [
            "\u001b[0;36m  File \u001b[0;32m\"<ipython-input-12-8c3e4e421185>\"\u001b[0;36m, line \u001b[0;32m5\u001b[0m\n\u001b[0;31m    1xc=3\u001b[0m\n\u001b[0m      ^\u001b[0m\n\u001b[0;31mSyntaxError\u001b[0m\u001b[0;31m:\u001b[0m invalid syntax\n"
          ]
        }
      ]
    },
    {
      "cell_type": "code",
      "metadata": {
        "colab": {
          "base_uri": "https://localhost:8080/"
        },
        "id": "8svdEGmRlgNq",
        "outputId": "b7cb9c4f-b0ab-4810-93f9-cb51cba9a6f7"
      },
      "source": [
        " \n",
        "# To print all keywords \n",
        "import keyword \n",
        "keyword.kwlist"
      ],
      "execution_count": null,
      "outputs": [
        {
          "output_type": "execute_result",
          "data": {
            "text/plain": [
              "['False',\n",
              " 'None',\n",
              " 'True',\n",
              " 'and',\n",
              " 'as',\n",
              " 'assert',\n",
              " 'async',\n",
              " 'await',\n",
              " 'break',\n",
              " 'class',\n",
              " 'continue',\n",
              " 'def',\n",
              " 'del',\n",
              " 'elif',\n",
              " 'else',\n",
              " 'except',\n",
              " 'finally',\n",
              " 'for',\n",
              " 'from',\n",
              " 'global',\n",
              " 'if',\n",
              " 'import',\n",
              " 'in',\n",
              " 'is',\n",
              " 'lambda',\n",
              " 'nonlocal',\n",
              " 'not',\n",
              " 'or',\n",
              " 'pass',\n",
              " 'raise',\n",
              " 'return',\n",
              " 'try',\n",
              " 'while',\n",
              " 'with',\n",
              " 'yield']"
            ]
          },
          "metadata": {
            "tags": []
          },
          "execution_count": 14
        }
      ]
    },
    {
      "cell_type": "code",
      "metadata": {
        "colab": {
          "base_uri": "https://localhost:8080/"
        },
        "id": "wVjp7MJmYZJj",
        "outputId": "86fcaea1-3248-499f-9262-f34f2bfcc2ef"
      },
      "source": [
        "# swapping of three numbers \n",
        "a=int(input(\"Enter first number \"))\n",
        "b=int(input(\"Enter second number \"))\n",
        "c=int(input(\"Enter third number \"))\n",
        "a,b,c=c,b,a\n",
        "print(a,b,c)"
      ],
      "execution_count": null,
      "outputs": [
        {
          "output_type": "stream",
          "text": [
            "Enter first number 3\n",
            "Enter second number 6\n",
            "Enter third number 2\n",
            "2 6 3\n"
          ],
          "name": "stdout"
        }
      ]
    },
    {
      "cell_type": "code",
      "metadata": {
        "colab": {
          "base_uri": "https://localhost:8080/"
        },
        "id": "6CEJTkzGl7ns",
        "outputId": "ccaa7b64-d4d0-446a-ddbc-33b76afa2cd8"
      },
      "source": [
        " \n",
        "# Convert int to float \n",
        "A=int(input(\"Enter a number \"))\n",
        "print(int(A),float(A))"
      ],
      "execution_count": null,
      "outputs": [
        {
          "output_type": "stream",
          "text": [
            "Enter a number 7\n",
            "7 7.0\n"
          ],
          "name": "stdout"
        }
      ]
    },
    {
      "cell_type": "code",
      "metadata": {
        "colab": {
          "base_uri": "https://localhost:8080/"
        },
        "id": "WJdpvJAsluBE",
        "outputId": "8bebfb9d-5032-4c3e-b5d5-d2702e860d02"
      },
      "source": [
        "\n",
        "# convert int to float\n",
        "a=4\n",
        "print(float(a))"
      ],
      "execution_count": null,
      "outputs": [
        {
          "output_type": "stream",
          "text": [
            "4.0\n"
          ],
          "name": "stdout"
        }
      ]
    },
    {
      "cell_type": "code",
      "metadata": {
        "colab": {
          "base_uri": "https://localhost:8080/"
        },
        "id": "I0O4h4RDmOdk",
        "outputId": "b1154b8a-a962-4bac-d2ee-a78fb477deda"
      },
      "source": [
        " \n",
        "# To convert int to float and vice versa\n",
        "a=int(input(\"enter a number \"))\n",
        "print(float(a))\n",
        "b=float(input(\"Enter a number\"))\n",
        "print(int(b))"
      ],
      "execution_count": null,
      "outputs": [
        {
          "output_type": "stream",
          "text": [
            "enter a number 5\n",
            "5.0\n",
            "Enter a number5.9\n",
            "5\n"
          ],
          "name": "stdout"
        }
      ]
    },
    {
      "cell_type": "code",
      "metadata": {
        "colab": {
          "base_uri": "https://localhost:8080/",
          "height": 319
        },
        "id": "ZMZZvW1nnMoM",
        "outputId": "3f49a832-cd73-4565-8cff-be5894f278a8"
      },
      "source": [
        " # To convert complex into int and float type\n",
        "a=input(\"enter a complex number \")\n",
        "print(int(a),float(a))"
      ],
      "execution_count": null,
      "outputs": [
        {
          "output_type": "stream",
          "text": [
            "enter a complex number 5+3j\n"
          ],
          "name": "stdout"
        },
        {
          "output_type": "error",
          "ename": "ValueError",
          "evalue": "ignored",
          "traceback": [
            "\u001b[0;31m---------------------------------------------------------------------------\u001b[0m",
            "\u001b[0;31mValueError\u001b[0m                                Traceback (most recent call last)",
            "\u001b[0;32m<ipython-input-20-73a22e7e1145>\u001b[0m in \u001b[0;36m<module>\u001b[0;34m()\u001b[0m\n\u001b[1;32m      1\u001b[0m \u001b[0;31m# To convert complex into int and float type\u001b[0m\u001b[0;34m\u001b[0m\u001b[0;34m\u001b[0m\u001b[0;34m\u001b[0m\u001b[0m\n\u001b[1;32m      2\u001b[0m \u001b[0ma\u001b[0m\u001b[0;34m=\u001b[0m\u001b[0minput\u001b[0m\u001b[0;34m(\u001b[0m\u001b[0;34m\"enter a complex number \"\u001b[0m\u001b[0;34m)\u001b[0m\u001b[0;34m\u001b[0m\u001b[0;34m\u001b[0m\u001b[0m\n\u001b[0;32m----> 3\u001b[0;31m \u001b[0mprint\u001b[0m\u001b[0;34m(\u001b[0m\u001b[0mint\u001b[0m\u001b[0;34m(\u001b[0m\u001b[0ma\u001b[0m\u001b[0;34m)\u001b[0m\u001b[0;34m,\u001b[0m\u001b[0mfloat\u001b[0m\u001b[0;34m(\u001b[0m\u001b[0ma\u001b[0m\u001b[0;34m)\u001b[0m\u001b[0;34m)\u001b[0m\u001b[0;34m\u001b[0m\u001b[0;34m\u001b[0m\u001b[0m\n\u001b[0m",
            "\u001b[0;31mValueError\u001b[0m: invalid literal for int() with base 10: '5+3j'"
          ]
        }
      ]
    },
    {
      "cell_type": "code",
      "metadata": {
        "colab": {
          "base_uri": "https://localhost:8080/"
        },
        "id": "2M5s-NflnnJ2",
        "outputId": "b23849e0-b199-4930-c91c-de851a0b48e1"
      },
      "source": [
        "\n",
        "# To convert int and float to complex\n",
        "A=4\n",
        "B=4.6\n",
        "print(complex(A),complex(B))"
      ],
      "execution_count": null,
      "outputs": [
        {
          "output_type": "stream",
          "text": [
            "(4+0j) (4.6+0j)\n"
          ],
          "name": "stdout"
        }
      ]
    },
    {
      "cell_type": "code",
      "metadata": {
        "colab": {
          "base_uri": "https://localhost:8080/"
        },
        "id": "w0Q7eKoAn0Hx",
        "outputId": "2655b81e-5a5a-429e-d9b4-50a17e81796e"
      },
      "source": [
        " \n",
        "# To print real and imaginary part of complex number \n",
        "A=complex(input(\"enter a complex number \"))\n",
        "print(A.real,A.imag)"
      ],
      "execution_count": null,
      "outputs": [
        {
          "output_type": "stream",
          "text": [
            "enter a complex number 5+6j\n",
            "5.0 6.0\n"
          ],
          "name": "stdout"
        }
      ]
    },
    {
      "cell_type": "code",
      "metadata": {
        "colab": {
          "base_uri": "https://localhost:8080/"
        },
        "id": "Anejt-Njoj8U",
        "outputId": "747a5c2e-0ec0-45cb-f77b-f819e5752564"
      },
      "source": [
        " \n",
        "#To convert str into int, float, complex and vice versa\n",
        "a=input()\n",
        "print(int(a),float(a),complex(a))\n",
        "b=int(input())\n",
        "c=float(input())\n",
        "d=complex(input())\n",
        "print(str(b),str(c),str(d))"
      ],
      "execution_count": null,
      "outputs": [
        {
          "output_type": "stream",
          "text": [
            "5\n",
            "5 5.0 (5+0j)\n",
            "5\n",
            "8.5\n",
            "4+7j\n",
            "5 8.5 (4+7j)\n"
          ],
          "name": "stdout"
        }
      ]
    },
    {
      "cell_type": "code",
      "metadata": {
        "colab": {
          "base_uri": "https://localhost:8080/"
        },
        "id": "9EE2QVQCpXP2",
        "outputId": "1fff0572-ea07-41e4-ae6b-fc637242384a"
      },
      "source": [
        " \n",
        "# To evaluate boolean expression \n",
        "True+True"
      ],
      "execution_count": null,
      "outputs": [
        {
          "output_type": "execute_result",
          "data": {
            "text/plain": [
              "2"
            ]
          },
          "metadata": {
            "tags": []
          },
          "execution_count": 24
        }
      ]
    },
    {
      "cell_type": "code",
      "metadata": {
        "colab": {
          "base_uri": "https://localhost:8080/"
        },
        "id": "HiIqLhkapi4e",
        "outputId": "95cec333-d470-415d-cd31-911e4da64447"
      },
      "source": [
        "False+True"
      ],
      "execution_count": null,
      "outputs": [
        {
          "output_type": "execute_result",
          "data": {
            "text/plain": [
              "1"
            ]
          },
          "metadata": {
            "tags": []
          },
          "execution_count": 19
        }
      ]
    },
    {
      "cell_type": "code",
      "metadata": {
        "colab": {
          "base_uri": "https://localhost:8080/"
        },
        "id": "kgvjCKXgplgu",
        "outputId": "d1661386-1875-4342-c7c5-c4483ddf2921"
      },
      "source": [
        "False-True"
      ],
      "execution_count": null,
      "outputs": [
        {
          "output_type": "execute_result",
          "data": {
            "text/plain": [
              "-1"
            ]
          },
          "metadata": {
            "tags": []
          },
          "execution_count": 20
        }
      ]
    },
    {
      "cell_type": "code",
      "metadata": {
        "colab": {
          "base_uri": "https://localhost:8080/"
        },
        "id": "GV4oLIVNpoHY",
        "outputId": "853ada3c-5517-4477-ebd2-0e9fc53bd839"
      },
      "source": [
        "False+False"
      ],
      "execution_count": null,
      "outputs": [
        {
          "output_type": "execute_result",
          "data": {
            "text/plain": [
              "0"
            ]
          },
          "metadata": {
            "tags": []
          },
          "execution_count": 21
        }
      ]
    },
    {
      "cell_type": "code",
      "metadata": {
        "colab": {
          "base_uri": "https://localhost:8080/"
        },
        "id": "vpEYxKRVpquq",
        "outputId": "dc996d37-ece4-49d5-e5e7-448c12615be4"
      },
      "source": [
        "\n",
        "#To convert bool into int,float,complex,str and vice versa\n",
        "B=bool(input()) # Enter a number\n",
        "print(int(B),float(B),complex(B),str(B))#To convert bool type into int,float,complex,str.\n",
        "A=4\n",
        "E=4.6\n",
        "C=4+5j\n",
        "D='S'\n",
        "print(bool(A),bool(E),bool(C),bool(D))"
      ],
      "execution_count": null,
      "outputs": [
        {
          "output_type": "stream",
          "text": [
            "0\n",
            "1 1.0 (1+0j) True\n",
            "True True True True\n"
          ],
          "name": "stdout"
        }
      ]
    },
    {
      "cell_type": "code",
      "metadata": {
        "colab": {
          "base_uri": "https://localhost:8080/"
        },
        "id": "1NiwoXl_qvI8",
        "outputId": "4dfec3b1-9fab-4b3f-9631-b20a78181b7c"
      },
      "source": [
        " \n",
        "# To convert decimal into binary ,octal,hexadecimal\n",
        "A=int(input(\"Enter a number \"))\n",
        "print(bin(A),oct(A),hex(A))"
      ],
      "execution_count": null,
      "outputs": [
        {
          "output_type": "stream",
          "text": [
            "Enter a number 6\n",
            "0b110 0o6 0x6\n"
          ],
          "name": "stdout"
        }
      ]
    },
    {
      "cell_type": "code",
      "metadata": {
        "colab": {
          "base_uri": "https://localhost:8080/"
        },
        "id": "aWX6pdHirXqx",
        "outputId": "a5943ed5-26be-4a05-95e7-3d5a4b18e343"
      },
      "source": [
        " \n",
        "# To convert octal,binary,hexadecimal into decimal\n",
        "a=0o5#enter a octal number\n",
        "c=0b101#enter abinary number\n",
        "b=0x5#enter a hexadecimal number\n",
        "print(int(a),int(c),int(b))"
      ],
      "execution_count": null,
      "outputs": [
        {
          "output_type": "stream",
          "text": [
            "5 5 5\n"
          ],
          "name": "stdout"
        }
      ]
    },
    {
      "cell_type": "code",
      "metadata": {
        "colab": {
          "base_uri": "https://localhost:8080/"
        },
        "id": "yTdO9OCjsc1B",
        "outputId": "9a64eb3f-a9e5-4889-e911-5b4f7517309d"
      },
      "source": [
        " \n",
        "# float number\n",
        "print(5e5)\n",
        "print(2E8)"
      ],
      "execution_count": null,
      "outputs": [
        {
          "output_type": "stream",
          "text": [
            "500000.0\n",
            "200000000.0\n"
          ],
          "name": "stdout"
        }
      ]
    },
    {
      "cell_type": "code",
      "metadata": {
        "colab": {
          "base_uri": "https://localhost:8080/"
        },
        "id": "tuyVdn5ecDPy",
        "outputId": "a7edfd0c-8629-4217-f173-b60d0dc730f8"
      },
      "source": [
        "# Print hello multiple times\n",
        "print(\"Hello \"*10)"
      ],
      "execution_count": null,
      "outputs": [
        {
          "output_type": "stream",
          "text": [
            "Hello Hello Hello Hello Hello Hello Hello Hello Hello Hello \n"
          ],
          "name": "stdout"
        }
      ]
    },
    {
      "cell_type": "code",
      "metadata": {
        "colab": {
          "base_uri": "https://localhost:8080/"
        },
        "id": "BCDk3l-gcLe-",
        "outputId": "73af8e72-e218-4a48-cb90-2ab0d204fa48"
      },
      "source": [
        "#To check a number is even or odd\n",
        "if(int(input(\"Enter a number \"))%2==0):\n",
        "   print(\"Even\")\n",
        "else:\n",
        "   print(\"Odd\")"
      ],
      "execution_count": null,
      "outputs": [
        {
          "output_type": "stream",
          "text": [
            "Enter a number 7\n",
            "Odd\n"
          ],
          "name": "stdout"
        }
      ]
    },
    {
      "cell_type": "code",
      "metadata": {
        "colab": {
          "base_uri": "https://localhost:8080/"
        },
        "id": "i-1jLSfBtLMF",
        "outputId": "b053b2c8-5378-4bcd-a498-8de856d5aae8"
      },
      "source": [
        " \n",
        "# To check order of customer is available or not\n",
        "Menu=['pizza','burger','pasta','pepsi','sandwich']\n",
        "Customer=input().split() #Take input order of customer\n",
        "for item in Customer:\n",
        "  if item in Menu:\n",
        "     print(\"How many plates of \" + item +\" you want\\n\")\n",
        "     n=input()\n",
        "     print(\"wait your \"+n+\" plates of \"+ item +\" are coming as soon as possible\\n\")\n",
        "  else:\n",
        "     print(\"Not available \"+ item + \" ,please order something else\\n\")"
      ],
      "execution_count": null,
      "outputs": [
        {
          "output_type": "stream",
          "text": [
            "pizza cocacola\n",
            "How many plates of pizza you want\n",
            "\n",
            "6\n",
            "wait your 6 plates of pizza are coming as soon as possible\n",
            "\n",
            "Not available cocacola ,please order something else\n",
            "\n"
          ],
          "name": "stdout"
        }
      ]
    }
  ]
}