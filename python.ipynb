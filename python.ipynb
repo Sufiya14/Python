{
  "nbformat": 4,
  "nbformat_minor": 0,
  "metadata": {
    "colab": {
      "name": "python.ipynb",
      "provenance": [],
      "include_colab_link": true
    },
    "kernelspec": {
      "name": "python3",
      "display_name": "Python 3"
    }
  },
  "cells": [
    {
      "cell_type": "markdown",
      "metadata": {
        "id": "view-in-github",
        "colab_type": "text"
      },
      "source": [
        "<a href=\"https://colab.research.google.com/github/Sufiya14/Python/blob/main/python.ipynb\" target=\"_parent\"><img src=\"https://colab.research.google.com/assets/colab-badge.svg\" alt=\"Open In Colab\"/></a>"
      ]
    },
    {
      "cell_type": "code",
      "metadata": {
        "colab": {
          "base_uri": "https://localhost:8080/"
        },
        "id": "0YX0ln7yDQ1A",
        "outputId": "09090f71-7abe-49ed-ddbf-9da908b43d17"
      },
      "source": [
        "print(\"hello\") # print hello \n",
        " \n",
        "a=int(input(\"Enter first number \")) # Enter first number\n",
        "b=int(input( \"Enter second number \")) #Enter second number\n",
        "c=a+b\n",
        "print(c) #print sum of two numbers"
      ],
      "execution_count": null,
      "outputs": [
        {
          "output_type": "stream",
          "text": [
            "hello\n",
            "Enter first number 4\n",
            "Enter second number 8\n",
            "12\n"
          ],
          "name": "stdout"
        }
      ]
    },
    {
      "cell_type": "code",
      "metadata": {
        "colab": {
          "base_uri": "https://localhost:8080/"
        },
        "id": "gO3b4iodE_-Q",
        "outputId": "91486bcd-e8e1-49c8-b233-f4f2114b9621"
      },
      "source": [
        "\n",
        "# To identify type of variable\n",
        "a=5\n",
        "print(type(a))"
      ],
      "execution_count": null,
      "outputs": [
        {
          "output_type": "stream",
          "text": [
            "<class 'int'>\n"
          ],
          "name": "stdout"
        }
      ]
    },
    {
      "cell_type": "code",
      "metadata": {
        "colab": {
          "base_uri": "https://localhost:8080/"
        },
        "id": "cs7JQIvPE__W",
        "outputId": "69a3a25c-22e7-43dc-9f7f-89b69aaf532f"
      },
      "source": [
        " \n",
        "# To identify type of different variable\n",
        "a=3.2\n",
        "c='a'\n",
        "b=[]\n",
        "d={\"a\"}\n",
        "e=()\n",
        "f=3+5j\n",
        "g={\"a\":1}\n",
        "print(type(c),type(b),type(d),type(e),type(f),type(a),type(g))"
      ],
      "execution_count": null,
      "outputs": [
        {
          "output_type": "stream",
          "text": [
            "<class 'str'> <class 'list'> <class 'set'> <class 'tuple'> <class 'complex'> <class 'float'> <class 'dict'>\n"
          ],
          "name": "stdout"
        }
      ]
    },
    {
      "cell_type": "code",
      "metadata": {
        "colab": {
          "base_uri": "https://localhost:8080/"
        },
        "id": "qD-cQ9jHMhLk",
        "outputId": "dc36a553-f949-49df-f170-7e490d982efb"
      },
      "source": [
        "\n",
        "# To print sum of elements in a list\n",
        "a=[2,3,4,1,3,5,0]\n",
        "print(sum(a))"
      ],
      "execution_count": null,
      "outputs": [
        {
          "output_type": "stream",
          "text": [
            "18\n"
          ],
          "name": "stdout"
        }
      ]
    },
    {
      "cell_type": "code",
      "metadata": {
        "colab": {
          "base_uri": "https://localhost:8080/"
        },
        "id": "qS2WyX_GMhM1",
        "outputId": "d5100cfb-0992-465d-c6a2-caa9d7069a3d"
      },
      "source": [
        " \n",
        "# input your name \n",
        "a=input(\"Enter  your name \")\n",
        "print(a)\n",
        " \n",
        "b=int(input(\"enter the value of b \"))\n",
        "c=int(input(\"enter the value of c \"))\n",
        "d=c+b\n",
        "print(d)"
      ],
      "execution_count": null,
      "outputs": [
        {
          "output_type": "stream",
          "text": [
            "Enter  your name Sufiya\n",
            "Sufiya\n",
            "enter the value of b 6\n",
            "enter the value of c 7\n",
            "13\n"
          ],
          "name": "stdout"
        }
      ]
    },
    {
      "cell_type": "code",
      "metadata": {
        "colab": {
          "base_uri": "https://localhost:8080/"
        },
        "id": "MLdL_BcFMhOI",
        "outputId": "7b1600fc-f15c-43b5-a2e9-d540e195bdf1"
      },
      "source": [
        " \n",
        "# Calculator\n",
        "a=int(input(\"Enter first number \"))\n",
        "b=int(input(\"Enter second number \"))\n",
        "print(\"sum subtract multiply division modulus\")\n",
        "print(a+b ,a-b ,a*b ,a/b ,a%b ,a//b)"
      ],
      "execution_count": null,
      "outputs": [
        {
          "output_type": "stream",
          "text": [
            "Enter first number 4\n",
            "Enter second number 3\n",
            "sum subtract multiply division modulus\n",
            "7 1 12 1.3333333333333333 1 1\n"
          ],
          "name": "stdout"
        }
      ]
    },
    {
      "cell_type": "code",
      "metadata": {
        "colab": {
          "base_uri": "https://localhost:8080/"
        },
        "id": "49p7DDwBRYkx",
        "outputId": "f8959564-bfcf-4ba6-b892-b75ea5322fe6"
      },
      "source": [
        " \n",
        "# To calculate ut+(1/2)at^2\n",
        "t=int(input(\"Enter time \"))\n",
        "u=int(input(\"Enter initial velocity \"))\n",
        "a=int(input(\"Enter acceleration \"))\n",
        "print((u*t+(1/2)*a*t*t))"
      ],
      "execution_count": null,
      "outputs": [
        {
          "output_type": "stream",
          "text": [
            "Enter time 5\n",
            "Enter initial velocity 6\n",
            "Enter acceleration 2\n",
            "55.0\n"
          ],
          "name": "stdout"
        }
      ]
    },
    {
      "cell_type": "code",
      "metadata": {
        "colab": {
          "base_uri": "https://localhost:8080/"
        },
        "id": "NdkDNcliXt3b",
        "outputId": "ebd87436-670b-4cb3-c08f-8c043aaa59b5"
      },
      "source": [
        " a=1                          #integer\n",
        "b=1.2                        #float\n",
        "c='str'                      #string\n",
        "d=[]                         #list\n",
        "e=()                         #tuple\n",
        "f={\"rt\"}                     #set\n",
        "g={c:5}                    #dictionary\n",
        "i=1+2j                 #complex number\n",
        "k=True                       #boolean   \n",
        "i= frozenset((a,b))       #frozen set \n",
        "l=bytes(1)                #bytes\n",
        "o=bytearray(a)            #bytearray \n",
        "m=memoryview(bytes(9))   #memory view\n",
        "n=range(1,2)              #range\n",
        "print(type(a),type(b),type(c),type(d),type(e),type(f),type(g),type(i),type(k),type(i),type(l),type(o),type(m),type(n))\n",
        "print(id(a),id(b),id(c),id(d),id(e),id(f),id(g),id(i),id(k),id(i),id(l),id(o),id(m),id(n))"
      ],
      "execution_count": null,
      "outputs": [
        {
          "output_type": "stream",
          "text": [
            "<class 'int'> <class 'float'> <class 'str'> <class 'list'> <class 'tuple'> <class 'set'> <class 'dict'> <class 'frozenset'> <class 'bool'> <class 'frozenset'> <class 'bytes'> <class 'bytearray'> <class 'memoryview'> <class 'range'>\n",
            "94265054886400 140000852285904 140001409717552 140000861410640 140001409962064 140000860933488 140000851797728 140000860930368 94265054212352 140000860930368 140000851313984 140000851614832 140000860814464 140000851313840\n"
          ],
          "name": "stdout"
        }
      ]
    },
    {
      "cell_type": "code",
      "metadata": {
        "id": "rASoBOTIRYme",
        "colab": {
          "base_uri": "https://localhost:8080/",
          "height": 148
        },
        "outputId": "d6f5f0ff-8607-4cce-88b8-6ceb4fe1beea"
      },
      "source": [
        " \n",
        "# To check an identifier is valid or not.\n",
        "abc=2 \n",
        "_a=2\n",
        "1xc=3\n",
        "0a=3\n",
        "Td=4"
      ],
      "execution_count": null,
      "outputs": [
        {
          "output_type": "error",
          "ename": "SyntaxError",
          "evalue": "ignored",
          "traceback": [
            "\u001b[0;36m  File \u001b[0;32m\"<ipython-input-12-8c3e4e421185>\"\u001b[0;36m, line \u001b[0;32m5\u001b[0m\n\u001b[0;31m    1xc=3\u001b[0m\n\u001b[0m      ^\u001b[0m\n\u001b[0;31mSyntaxError\u001b[0m\u001b[0;31m:\u001b[0m invalid syntax\n"
          ]
        }
      ]
    },
    {
      "cell_type": "code",
      "metadata": {
        "colab": {
          "base_uri": "https://localhost:8080/"
        },
        "id": "8svdEGmRlgNq",
        "outputId": "b7cb9c4f-b0ab-4810-93f9-cb51cba9a6f7"
      },
      "source": [
        " \n",
        "# To print all keywords \n",
        "import keyword \n",
        "keyword.kwlist"
      ],
      "execution_count": null,
      "outputs": [
        {
          "output_type": "execute_result",
          "data": {
            "text/plain": [
              "['False',\n",
              " 'None',\n",
              " 'True',\n",
              " 'and',\n",
              " 'as',\n",
              " 'assert',\n",
              " 'async',\n",
              " 'await',\n",
              " 'break',\n",
              " 'class',\n",
              " 'continue',\n",
              " 'def',\n",
              " 'del',\n",
              " 'elif',\n",
              " 'else',\n",
              " 'except',\n",
              " 'finally',\n",
              " 'for',\n",
              " 'from',\n",
              " 'global',\n",
              " 'if',\n",
              " 'import',\n",
              " 'in',\n",
              " 'is',\n",
              " 'lambda',\n",
              " 'nonlocal',\n",
              " 'not',\n",
              " 'or',\n",
              " 'pass',\n",
              " 'raise',\n",
              " 'return',\n",
              " 'try',\n",
              " 'while',\n",
              " 'with',\n",
              " 'yield']"
            ]
          },
          "metadata": {
            "tags": []
          },
          "execution_count": 14
        }
      ]
    },
    {
      "cell_type": "code",
      "metadata": {
        "colab": {
          "base_uri": "https://localhost:8080/"
        },
        "id": "wVjp7MJmYZJj",
        "outputId": "86fcaea1-3248-499f-9262-f34f2bfcc2ef"
      },
      "source": [
        "# swapping of three numbers \n",
        "a=int(input(\"Enter first number \"))\n",
        "b=int(input(\"Enter second number \"))\n",
        "c=int(input(\"Enter third number \"))\n",
        "a,b,c=c,b,a\n",
        "print(a,b,c)"
      ],
      "execution_count": null,
      "outputs": [
        {
          "output_type": "stream",
          "text": [
            "Enter first number 3\n",
            "Enter second number 6\n",
            "Enter third number 2\n",
            "2 6 3\n"
          ],
          "name": "stdout"
        }
      ]
    },
    {
      "cell_type": "code",
      "metadata": {
        "colab": {
          "base_uri": "https://localhost:8080/"
        },
        "id": "6CEJTkzGl7ns",
        "outputId": "ccaa7b64-d4d0-446a-ddbc-33b76afa2cd8"
      },
      "source": [
        " \n",
        "# Convert int to float \n",
        "A=int(input(\"Enter a number \"))\n",
        "print(int(A),float(A))"
      ],
      "execution_count": null,
      "outputs": [
        {
          "output_type": "stream",
          "text": [
            "Enter a number 7\n",
            "7 7.0\n"
          ],
          "name": "stdout"
        }
      ]
    },
    {
      "cell_type": "code",
      "metadata": {
        "colab": {
          "base_uri": "https://localhost:8080/"
        },
        "id": "WJdpvJAsluBE",
        "outputId": "8bebfb9d-5032-4c3e-b5d5-d2702e860d02"
      },
      "source": [
        "\n",
        "# convert int to float\n",
        "a=4\n",
        "print(float(a))"
      ],
      "execution_count": null,
      "outputs": [
        {
          "output_type": "stream",
          "text": [
            "4.0\n"
          ],
          "name": "stdout"
        }
      ]
    },
    {
      "cell_type": "code",
      "metadata": {
        "colab": {
          "base_uri": "https://localhost:8080/"
        },
        "id": "I0O4h4RDmOdk",
        "outputId": "b1154b8a-a962-4bac-d2ee-a78fb477deda"
      },
      "source": [
        " \n",
        "# To convert int to float and vice versa\n",
        "a=int(input(\"enter a number \"))\n",
        "print(float(a))\n",
        "b=float(input(\"Enter a number\"))\n",
        "print(int(b))"
      ],
      "execution_count": null,
      "outputs": [
        {
          "output_type": "stream",
          "text": [
            "enter a number 5\n",
            "5.0\n",
            "Enter a number5.9\n",
            "5\n"
          ],
          "name": "stdout"
        }
      ]
    },
    {
      "cell_type": "code",
      "metadata": {
        "colab": {
          "base_uri": "https://localhost:8080/",
          "height": 319
        },
        "id": "ZMZZvW1nnMoM",
        "outputId": "3f49a832-cd73-4565-8cff-be5894f278a8"
      },
      "source": [
        " # To convert complex into int and float type\n",
        "a=input(\"enter a complex number \")\n",
        "print(int(a),float(a))"
      ],
      "execution_count": null,
      "outputs": [
        {
          "output_type": "stream",
          "text": [
            "enter a complex number 5+3j\n"
          ],
          "name": "stdout"
        },
        {
          "output_type": "error",
          "ename": "ValueError",
          "evalue": "ignored",
          "traceback": [
            "\u001b[0;31m---------------------------------------------------------------------------\u001b[0m",
            "\u001b[0;31mValueError\u001b[0m                                Traceback (most recent call last)",
            "\u001b[0;32m<ipython-input-20-73a22e7e1145>\u001b[0m in \u001b[0;36m<module>\u001b[0;34m()\u001b[0m\n\u001b[1;32m      1\u001b[0m \u001b[0;31m# To convert complex into int and float type\u001b[0m\u001b[0;34m\u001b[0m\u001b[0;34m\u001b[0m\u001b[0;34m\u001b[0m\u001b[0m\n\u001b[1;32m      2\u001b[0m \u001b[0ma\u001b[0m\u001b[0;34m=\u001b[0m\u001b[0minput\u001b[0m\u001b[0;34m(\u001b[0m\u001b[0;34m\"enter a complex number \"\u001b[0m\u001b[0;34m)\u001b[0m\u001b[0;34m\u001b[0m\u001b[0;34m\u001b[0m\u001b[0m\n\u001b[0;32m----> 3\u001b[0;31m \u001b[0mprint\u001b[0m\u001b[0;34m(\u001b[0m\u001b[0mint\u001b[0m\u001b[0;34m(\u001b[0m\u001b[0ma\u001b[0m\u001b[0;34m)\u001b[0m\u001b[0;34m,\u001b[0m\u001b[0mfloat\u001b[0m\u001b[0;34m(\u001b[0m\u001b[0ma\u001b[0m\u001b[0;34m)\u001b[0m\u001b[0;34m)\u001b[0m\u001b[0;34m\u001b[0m\u001b[0;34m\u001b[0m\u001b[0m\n\u001b[0m",
            "\u001b[0;31mValueError\u001b[0m: invalid literal for int() with base 10: '5+3j'"
          ]
        }
      ]
    },
    {
      "cell_type": "code",
      "metadata": {
        "colab": {
          "base_uri": "https://localhost:8080/"
        },
        "id": "2M5s-NflnnJ2",
        "outputId": "b23849e0-b199-4930-c91c-de851a0b48e1"
      },
      "source": [
        "\n",
        "# To convert int and float to complex\n",
        "A=4\n",
        "B=4.6\n",
        "print(complex(A),complex(B))"
      ],
      "execution_count": null,
      "outputs": [
        {
          "output_type": "stream",
          "text": [
            "(4+0j) (4.6+0j)\n"
          ],
          "name": "stdout"
        }
      ]
    },
    {
      "cell_type": "code",
      "metadata": {
        "colab": {
          "base_uri": "https://localhost:8080/"
        },
        "id": "w0Q7eKoAn0Hx",
        "outputId": "2655b81e-5a5a-429e-d9b4-50a17e81796e"
      },
      "source": [
        " \n",
        "# To print real and imaginary part of complex number \n",
        "A=complex(input(\"enter a complex number \"))\n",
        "print(A.real,A.imag)"
      ],
      "execution_count": null,
      "outputs": [
        {
          "output_type": "stream",
          "text": [
            "enter a complex number 5+6j\n",
            "5.0 6.0\n"
          ],
          "name": "stdout"
        }
      ]
    },
    {
      "cell_type": "code",
      "metadata": {
        "colab": {
          "base_uri": "https://localhost:8080/"
        },
        "id": "Anejt-Njoj8U",
        "outputId": "747a5c2e-0ec0-45cb-f77b-f819e5752564"
      },
      "source": [
        " \n",
        "#To convert str into int, float, complex and vice versa\n",
        "a=input()\n",
        "print(int(a),float(a),complex(a))\n",
        "b=int(input())\n",
        "c=float(input())\n",
        "d=complex(input())\n",
        "print(str(b),str(c),str(d))"
      ],
      "execution_count": null,
      "outputs": [
        {
          "output_type": "stream",
          "text": [
            "5\n",
            "5 5.0 (5+0j)\n",
            "5\n",
            "8.5\n",
            "4+7j\n",
            "5 8.5 (4+7j)\n"
          ],
          "name": "stdout"
        }
      ]
    },
    {
      "cell_type": "code",
      "metadata": {
        "colab": {
          "base_uri": "https://localhost:8080/"
        },
        "id": "9EE2QVQCpXP2",
        "outputId": "74d5fafa-b6eb-48bc-c2e9-2aa35c49a56a"
      },
      "source": [
        "import random \n",
        "# To evaluate boolean expression \n",
        "True+True"
      ],
      "execution_count": null,
      "outputs": [
        {
          "output_type": "execute_result",
          "data": {
            "text/plain": [
              "2"
            ]
          },
          "metadata": {
            "tags": []
          },
          "execution_count": 20
        }
      ]
    },
    {
      "cell_type": "code",
      "metadata": {
        "colab": {
          "base_uri": "https://localhost:8080/"
        },
        "id": "HiIqLhkapi4e",
        "outputId": "95cec333-d470-415d-cd31-911e4da64447"
      },
      "source": [
        "False+True"
      ],
      "execution_count": null,
      "outputs": [
        {
          "output_type": "execute_result",
          "data": {
            "text/plain": [
              "1"
            ]
          },
          "metadata": {
            "tags": []
          },
          "execution_count": 19
        }
      ]
    },
    {
      "cell_type": "code",
      "metadata": {
        "colab": {
          "base_uri": "https://localhost:8080/"
        },
        "id": "kgvjCKXgplgu",
        "outputId": "d1661386-1875-4342-c7c5-c4483ddf2921"
      },
      "source": [
        "False-True"
      ],
      "execution_count": null,
      "outputs": [
        {
          "output_type": "execute_result",
          "data": {
            "text/plain": [
              "-1"
            ]
          },
          "metadata": {
            "tags": []
          },
          "execution_count": 20
        }
      ]
    },
    {
      "cell_type": "code",
      "metadata": {
        "colab": {
          "base_uri": "https://localhost:8080/"
        },
        "id": "GV4oLIVNpoHY",
        "outputId": "853ada3c-5517-4477-ebd2-0e9fc53bd839"
      },
      "source": [
        "False+False"
      ],
      "execution_count": null,
      "outputs": [
        {
          "output_type": "execute_result",
          "data": {
            "text/plain": [
              "0"
            ]
          },
          "metadata": {
            "tags": []
          },
          "execution_count": 21
        }
      ]
    },
    {
      "cell_type": "code",
      "metadata": {
        "colab": {
          "base_uri": "https://localhost:8080/"
        },
        "id": "vpEYxKRVpquq",
        "outputId": "dc996d37-ece4-49d5-e5e7-448c12615be4"
      },
      "source": [
        "\n",
        "#To convert bool into int,float,complex,str and vice versa\n",
        "B=bool(input()) # Enter a number\n",
        "print(int(B),float(B),complex(B),str(B))#To convert bool type into int,float,complex,str.\n",
        "A=4\n",
        "E=4.6\n",
        "C=4+5j\n",
        "D='S'\n",
        "print(bool(A),bool(E),bool(C),bool(D))"
      ],
      "execution_count": null,
      "outputs": [
        {
          "output_type": "stream",
          "text": [
            "0\n",
            "1 1.0 (1+0j) True\n",
            "True True True True\n"
          ],
          "name": "stdout"
        }
      ]
    },
    {
      "cell_type": "code",
      "metadata": {
        "colab": {
          "base_uri": "https://localhost:8080/"
        },
        "id": "1NiwoXl_qvI8",
        "outputId": "4dfec3b1-9fab-4b3f-9631-b20a78181b7c"
      },
      "source": [
        " \n",
        "# To convert decimal into binary ,octal,hexadecimal\n",
        "A=int(input(\"Enter a number \"))\n",
        "print(bin(A),oct(A),hex(A))"
      ],
      "execution_count": null,
      "outputs": [
        {
          "output_type": "stream",
          "text": [
            "Enter a number 6\n",
            "0b110 0o6 0x6\n"
          ],
          "name": "stdout"
        }
      ]
    },
    {
      "cell_type": "code",
      "metadata": {
        "colab": {
          "base_uri": "https://localhost:8080/"
        },
        "id": "aWX6pdHirXqx",
        "outputId": "a5943ed5-26be-4a05-95e7-3d5a4b18e343"
      },
      "source": [
        " \n",
        "# To convert octal,binary,hexadecimal into decimal\n",
        "a=0o5#enter a octal number\n",
        "c=0b101#enter abinary number\n",
        "b=0x5#enter a hexadecimal number\n",
        "print(int(a),int(c),int(b))"
      ],
      "execution_count": null,
      "outputs": [
        {
          "output_type": "stream",
          "text": [
            "5 5 5\n"
          ],
          "name": "stdout"
        }
      ]
    },
    {
      "cell_type": "code",
      "metadata": {
        "colab": {
          "base_uri": "https://localhost:8080/"
        },
        "id": "yTdO9OCjsc1B",
        "outputId": "9a64eb3f-a9e5-4889-e911-5b4f7517309d"
      },
      "source": [
        " \n",
        "# float number\n",
        "print(5e5)\n",
        "print(2E8)"
      ],
      "execution_count": null,
      "outputs": [
        {
          "output_type": "stream",
          "text": [
            "500000.0\n",
            "200000000.0\n"
          ],
          "name": "stdout"
        }
      ]
    },
    {
      "cell_type": "code",
      "metadata": {
        "colab": {
          "base_uri": "https://localhost:8080/"
        },
        "id": "tuyVdn5ecDPy",
        "outputId": "a7edfd0c-8629-4217-f173-b60d0dc730f8"
      },
      "source": [
        "# Print hello multiple times\n",
        "print(\"Hello \"*10)"
      ],
      "execution_count": null,
      "outputs": [
        {
          "output_type": "stream",
          "text": [
            "Hello Hello Hello Hello Hello Hello Hello Hello Hello Hello \n"
          ],
          "name": "stdout"
        }
      ]
    },
    {
      "cell_type": "code",
      "metadata": {
        "colab": {
          "base_uri": "https://localhost:8080/"
        },
        "id": "BCDk3l-gcLe-",
        "outputId": "73af8e72-e218-4a48-cb90-2ab0d204fa48"
      },
      "source": [
        "#To check a number is even or odd\n",
        "if(int(input(\"Enter a number \"))%2==0):\n",
        "   print(\"Even\")\n",
        "else:\n",
        "   print(\"Odd\")"
      ],
      "execution_count": null,
      "outputs": [
        {
          "output_type": "stream",
          "text": [
            "Enter a number 7\n",
            "Odd\n"
          ],
          "name": "stdout"
        }
      ]
    },
    {
      "cell_type": "code",
      "metadata": {
        "colab": {
          "base_uri": "https://localhost:8080/"
        },
        "id": "i-1jLSfBtLMF",
        "outputId": "9b5ae0d1-1dd6-4a80-8bfd-1d79a26e930d"
      },
      "source": [
        " # To check order of customer is available or not and print his bill.\n",
        "Menu={'pizza':70,'burger':40,'pasta':50,'pepsi':40,'sandwich':40,'momos':35,'icecream':30,'milkshake':40,'juice':20}\n",
        "print(\"Menu\")\n",
        "print(Menu)\n",
        "total=0\n",
        "cost=[]\n",
        "quantity=[]\n",
        "prepared=['pizza','pepsi','icecream','burger','juice']\n",
        "unprepared=['pasta','sandwich','momos','milkshake']\n",
        "Customer=input().split() #Take input order of customer\n",
        "for item in Customer:\n",
        "  if item in prepared:\n",
        "     print(\"How many  \" + item +\" you want\\n\")\n",
        "     n=input()\n",
        "     print(\"wait your \"+n+\" \"+ item +\" are coming as soon as possible\\n\")\n",
        "     price=Menu[item]\n",
        "     price=int(n)*int(price)\n",
        "     quantity.append(n)\n",
        "     cost.append(price)\n",
        "     total=total+ price\n",
        "     #print(\"Quantity  \" + n + \" item \" + item + \" price \" + str(price) + \"\\n\")\n",
        "  else:\n",
        "     print(\"Not available \"+ item + \" ,please order something else\\n\")\n",
        "\n",
        "print(\" Quantity   Item   Price\")\n",
        "i=0\n",
        "for item in Customer:\n",
        "  print(quantity[i] + \"\\t\"  ,item + \"\\t\"  ,cost[i])\n",
        "  i=i+1\n",
        "print(\"\\n Total bill \" + str(total) + \"\\n\")"
      ],
      "execution_count": null,
      "outputs": [
        {
          "output_type": "stream",
          "text": [
            "Menu\n",
            "{'pizza': 70, 'burger': 40, 'pasta': 50, 'pepsi': 40, 'sandwich': 40, 'momos': 35, 'icecream': 30, 'milkshake': 40, 'juice': 20}\n",
            "pizza icecream\n",
            "How many  pizza you want\n",
            "\n",
            "2\n",
            "wait your 2 pizza are coming as soon as possible\n",
            "\n",
            "How many  icecream you want\n",
            "\n",
            "3\n",
            "wait your 3 icecream are coming as soon as possible\n",
            "\n",
            " Quantity   Item   Price\n",
            "2\t pizza\t 140\n",
            "3\t icecream\t 90\n",
            "\n",
            " Total bill 230\n",
            "\n"
          ],
          "name": "stdout"
        }
      ]
    },
    {
      "cell_type": "code",
      "metadata": {
        "colab": {
          "base_uri": "https://localhost:8080/"
        },
        "id": "VrLAN7aim9Fd",
        "outputId": "8e1a437b-1f81-4e9a-9327-0a106ce18021"
      },
      "source": [
        "# List operation\n",
        "list=[1,2,3,4]\n",
        "list.append(7)\n",
        "print(list)\n",
        "list.insert(3,8)\n",
        "print(list)\n",
        "print(list[:2])\n",
        "list[2:]"
      ],
      "execution_count": null,
      "outputs": [
        {
          "output_type": "stream",
          "text": [
            "[1, 2, 3, 4, 7]\n",
            "[1, 2, 3, 8, 4, 7]\n",
            "[1, 2]\n"
          ],
          "name": "stdout"
        },
        {
          "output_type": "execute_result",
          "data": {
            "text/plain": [
              "[3, 8, 4, 7]"
            ]
          },
          "metadata": {
            "tags": []
          },
          "execution_count": 22
        }
      ]
    },
    {
      "cell_type": "code",
      "metadata": {
        "id": "aE-BpRXznxo6",
        "colab": {
          "base_uri": "https://localhost:8080/"
        },
        "outputId": "e7e70e7b-f461-444c-9e20-60f6d6ebd0db"
      },
      "source": [
        "# Mapping of two list\n",
        "list1=[1,2,3,4]\n",
        "list2=['A','B','C','D']\n",
        "l=zip(list1,list2)\n",
        "print(dict(l))\n",
        "\n",
        "for i in range(len(list1)):\n",
        "  print(list1[i],list2[i])\n",
        "\n",
        "list3=['a','b','c','d'] \n",
        "b=list(map(lambda x,y: x +\" \"+ y,list3,list2))\n",
        "print(b)\n",
        "\n"
      ],
      "execution_count": null,
      "outputs": [
        {
          "output_type": "stream",
          "text": [
            "{1: 'A', 2: 'B', 3: 'C', 4: 'D'}\n",
            "1 A\n",
            "2 B\n",
            "3 C\n",
            "4 D\n",
            "['a A', 'b B', 'c C', 'd D']\n"
          ],
          "name": "stdout"
        }
      ]
    },
    {
      "cell_type": "code",
      "metadata": {
        "colab": {
          "base_uri": "https://localhost:8080/"
        },
        "id": "DzZ5TBFSrwDD",
        "outputId": "585629c1-9f18-4ea6-adb6-3a7b36c0bbe6"
      },
      "source": [
        "# to check  two list are same or not\n",
        "l1=['q','e','y','g']\n",
        "n=int(input(\"enter no of elements \"))\n",
        "l2=[]\n",
        "for i in range(n):\n",
        "  e=input()\n",
        "  l2.append(e)\n",
        "\n",
        "print(l2)\n",
        "if set(l1)== set(l2):\n",
        "  print(\"list are equal \" )\n",
        "  print(l1)\n",
        "else:\n",
        "  print(\"list are not equal\")\n",
        "  print((set(l1)-set(l2)).union(set(l2)-set(l1)))\n",
        "\n",
        "\n"
      ],
      "execution_count": null,
      "outputs": [
        {
          "output_type": "stream",
          "text": [
            "enter no of elements 4\n",
            "w\n",
            "r\n",
            "q\n",
            "t\n",
            "['w', 'r', 'q', 't']\n",
            "list are not equal\n",
            "{'e', 'y', 'r', 'g', 't', 'w'}\n"
          ],
          "name": "stdout"
        }
      ]
    },
    {
      "cell_type": "code",
      "metadata": {
        "colab": {
          "base_uri": "https://localhost:8080/"
        },
        "id": "Ct5a-nUq19k-",
        "outputId": "a40cb005-537c-4895-db6b-0ff2438dfeb3"
      },
      "source": [
        "#Frozen Set\n",
        "l=[1,2,3,4]\n",
        "x=frozenset(l)\n",
        "print(x.copy())\n",
        "\n",
        "\n"
      ],
      "execution_count": null,
      "outputs": [
        {
          "output_type": "stream",
          "text": [
            "frozenset({1, 2, 3, 4})\n"
          ],
          "name": "stdout"
        }
      ]
    },
    {
      "cell_type": "code",
      "metadata": {
        "colab": {
          "base_uri": "https://localhost:8080/"
        },
        "id": "gMAaCdew5Lyg",
        "outputId": "12a42746-db88-4cbb-ed3a-0bc8310dd2e7"
      },
      "source": [
        "# compare two strings\n",
        "s1=input(\"Enter first string \").lower()\n",
        "s2=input(\"Enter second string \").lower()\n",
        "if s1==s2:\n",
        "  print(\"Equal\")\n",
        "else:\n",
        "  print(\"Unequal\")"
      ],
      "execution_count": null,
      "outputs": [
        {
          "output_type": "stream",
          "text": [
            "Enter first string abc\n",
            "Enter second string cvg\n",
            "Unequal\n"
          ],
          "name": "stdout"
        }
      ]
    },
    {
      "cell_type": "code",
      "metadata": {
        "id": "Qg5XaAYy_igO",
        "colab": {
          "base_uri": "https://localhost:8080/"
        },
        "outputId": "3522e661-f140-4f19-9d61-2eea277281de"
      },
      "source": [
        "# merge two list and sort them.\n",
        "list1=[1,5,2,8,3,4]\n",
        "list2=[9,8,5,3,7,1]\n",
        "list3=list1+list2\n",
        "for i in range(len(list3)): \n",
        "    min_idx = i \n",
        "    for j in range(i+1, len(list3)): \n",
        "        if list3[min_idx] > list3[j]: \n",
        "            min_idx = j \n",
        "                    \n",
        "    list3[i], list3[min_idx] = list3[min_idx], list3[i] \n",
        "\n",
        "print (\"Sorted array\") \n",
        "print(list3)  "
      ],
      "execution_count": null,
      "outputs": [
        {
          "output_type": "stream",
          "text": [
            "Sorted array\n",
            "[1, 1, 2, 3, 3, 4, 5, 5, 7, 8, 8, 9]\n"
          ],
          "name": "stdout"
        }
      ]
    },
    {
      "cell_type": "code",
      "metadata": {
        "colab": {
          "base_uri": "https://localhost:8080/"
        },
        "id": "Kt0Sx8lmtaLz",
        "outputId": "6088c476-1cc4-4ebd-a4d0-4ed7c05cca75"
      },
      "source": [
        "#compute hcf and lcm of two numbers\n",
        "a=int(input(\"Enter first number \"))\n",
        "b=int(input(\"Enter second number \"))\n",
        "if(a<b):\n",
        "  s=a\n",
        "else:\n",
        "  s=b\n",
        "hcf=1\n",
        "for i in range (2,s+1):\n",
        "  if(a%i==0 and b%i==0 ):\n",
        "    hcf=i\n",
        "\n",
        "lcm=(a*b)/hcf\n",
        "print(hcf,lcm)\n"
      ],
      "execution_count": null,
      "outputs": [
        {
          "output_type": "stream",
          "text": [
            "Enter first number 6\n",
            "Enter second number 4\n",
            "2 12.0\n"
          ],
          "name": "stdout"
        }
      ]
    },
    {
      "cell_type": "code",
      "metadata": {
        "colab": {
          "base_uri": "https://localhost:8080/"
        },
        "id": "bDqt7pob1xpp",
        "outputId": "ca82ca4a-3ed0-498c-f8e8-2780b58f9ba9"
      },
      "source": [
        "dict1={'mango':'fruit','shreya':'good girl','surbhi':'tall girl','sufiya':'topper','unnati':'cute girl'}\n",
        "s=input()\n",
        "if s in dict1:\n",
        "  print(dict1[s])"
      ],
      "execution_count": null,
      "outputs": [
        {
          "output_type": "stream",
          "text": [
            "unnati\n",
            "cute girl\n"
          ],
          "name": "stdout"
        }
      ]
    },
    {
      "cell_type": "code",
      "metadata": {
        "id": "Bc4E_nz95mhM",
        "colab": {
          "base_uri": "https://localhost:8080/"
        },
        "outputId": "60e149b1-8f42-4e81-c051-a5153e67c1d4"
      },
      "source": [
        "# eval function\n",
        "a=eval(input())\n",
        "type(a)\n",
        "#print(a)\n",
        "\n",
        "\n",
        "\n",
        " "
      ],
      "execution_count": null,
      "outputs": [
        {
          "output_type": "stream",
          "text": [
            "\"h\"\n"
          ],
          "name": "stdout"
        },
        {
          "output_type": "execute_result",
          "data": {
            "text/plain": [
              "str"
            ]
          },
          "metadata": {
            "tags": []
          },
          "execution_count": 10
        }
      ]
    },
    {
      "cell_type": "code",
      "metadata": {
        "colab": {
          "base_uri": "https://localhost:8080/"
        },
        "id": "pcpxgDvizKDV",
        "outputId": "334388e7-693a-4c18-a7d7-6550f5d477a5"
      },
      "source": [
        "# map function\n",
        "l=[1,2,5,4,7,9]\n",
        "a=list(map(lambda x: x*x*x,l))\n",
        "print(a)\n",
        "b=list(map(lambda y: y + y,l))\n",
        "print(b)\n",
        "c=list(map(lambda y: y * y,l))\n",
        "print(c)"
      ],
      "execution_count": null,
      "outputs": [
        {
          "output_type": "stream",
          "text": [
            "[1, 8, 125, 64, 343, 729]\n",
            "[2, 4, 10, 8, 14, 18]\n",
            "[1, 4, 25, 16, 49, 81]\n"
          ],
          "name": "stdout"
        }
      ]
    },
    {
      "cell_type": "code",
      "metadata": {
        "id": "tp02KpMW2I0x",
        "colab": {
          "base_uri": "https://localhost:8080/"
        },
        "outputId": "3411818c-7555-4f7a-9dd7-7d828a4d7bf3"
      },
      "source": [
        "#strip() function\n",
        "s=\"aeiou\"\n",
        "print(s.strip(\"ua\"))\n",
        "print(s)\n",
        "print(s.strip(\"e\"))\n",
        "print(s.rstrip(\"u\"))\n",
        "print(s.lstrip(\"a\"))"
      ],
      "execution_count": null,
      "outputs": [
        {
          "output_type": "stream",
          "text": [
            "eio\n",
            "aeiou\n",
            "aeiou\n",
            "aeio\n",
            "eiou\n"
          ],
          "name": "stdout"
        }
      ]
    },
    {
      "cell_type": "code",
      "metadata": {
        "colab": {
          "base_uri": "https://localhost:8080/"
        },
        "id": "j9GLt55S9wv_",
        "outputId": "fc7e3787-fe0e-4659-cb92-9f085fc026ae"
      },
      "source": [
        "#find() function\n",
        "s=input()\n",
        "n=input()\n",
        "print(s.find(n))"
      ],
      "execution_count": null,
      "outputs": [
        {
          "output_type": "stream",
          "text": [
            "i am \n",
            "n\n",
            "-1\n"
          ],
          "name": "stdout"
        }
      ]
    },
    {
      "cell_type": "code",
      "metadata": {
        "colab": {
          "base_uri": "https://localhost:8080/"
        },
        "id": "3yLozv9QAq6E",
        "outputId": "fc398751-7d29-44f9-c929-e1d8c8b5deb7"
      },
      "source": [
        "#index()\n",
        "n=[1,54,3,2,6,35,26,8754,44]\n",
        "print(n.index(3))"
      ],
      "execution_count": null,
      "outputs": [
        {
          "output_type": "stream",
          "text": [
            "2\n"
          ],
          "name": "stdout"
        }
      ]
    },
    {
      "cell_type": "code",
      "metadata": {
        "colab": {
          "base_uri": "https://localhost:8080/"
        },
        "id": "AEGp2-6yBHBZ",
        "outputId": "aa57f09b-0bab-43eb-c313-b63e3c77702b"
      },
      "source": [
        "# extend()\n",
        "l1=[2,3,1,6,5]\n",
        "l2=[3,5,2,5,2]\n",
        "l1.extend(l2)\n",
        "print(l1)"
      ],
      "execution_count": null,
      "outputs": [
        {
          "output_type": "stream",
          "text": [
            "[2, 3, 1, 6, 5, 3, 5, 2, 5, 2]\n"
          ],
          "name": "stdout"
        }
      ]
    },
    {
      "cell_type": "code",
      "metadata": {
        "colab": {
          "base_uri": "https://localhost:8080/"
        },
        "id": "fDxa1Hw6BcnZ",
        "outputId": "d129c189-c4e3-4067-a05b-e39faf2ec72c"
      },
      "source": [
        "# reverse()\n",
        "n=[2,4,0,6,3,1]\n",
        "n.reverse()\n",
        "print(n)"
      ],
      "execution_count": null,
      "outputs": [
        {
          "output_type": "stream",
          "text": [
            "[1, 3, 6, 0, 4, 2]\n"
          ],
          "name": "stdout"
        }
      ]
    },
    {
      "cell_type": "code",
      "metadata": {
        "colab": {
          "base_uri": "https://localhost:8080/"
        },
        "id": "xiBLED9FB-b_",
        "outputId": "4a2f90c0-344e-424d-859b-39ed7d909fc1"
      },
      "source": [
        "#count()\n",
        "l1=[2,3,1,6,5]\n",
        "l2=[3,5,2,5,2]\n",
        "l1.count(3)"
      ],
      "execution_count": null,
      "outputs": [
        {
          "output_type": "execute_result",
          "data": {
            "text/plain": [
              "1"
            ]
          },
          "metadata": {
            "tags": []
          },
          "execution_count": 48
        }
      ]
    },
    {
      "cell_type": "code",
      "metadata": {
        "colab": {
          "base_uri": "https://localhost:8080/"
        },
        "id": "_IpIKxuQCS2G",
        "outputId": "5ac87f5e-fdc2-4740-d8bb-8f5acf94e589"
      },
      "source": [
        "# split() function\n",
        "s=input()\n",
        "c=s.split(\",\")\n",
        "print(c)"
      ],
      "execution_count": null,
      "outputs": [
        {
          "output_type": "stream",
          "text": [
            "I , BE, THE, GREAT \n",
            "['I ', ' BE', ' THE', ' GREAT ']\n"
          ],
          "name": "stdout"
        }
      ]
    },
    {
      "cell_type": "code",
      "metadata": {
        "colab": {
          "base_uri": "https://localhost:8080/"
        },
        "id": "1MiZs4rqH7iX",
        "outputId": "ac2e84a5-f9c4-4931-eb17-8b08b99acc54"
      },
      "source": [
        "#join()\n",
        "s=input()\n",
        "x=\"&\".join(s)\n",
        "print(x)\n",
        "v=['a','b','c']\n",
        "k=\"*\".join(v)\n",
        "print(k)"
      ],
      "execution_count": null,
      "outputs": [
        {
          "output_type": "stream",
          "text": [
            "i m\n",
            "i& &m\n",
            "a*b*c\n"
          ],
          "name": "stdout"
        }
      ]
    },
    {
      "cell_type": "code",
      "metadata": {
        "colab": {
          "base_uri": "https://localhost:8080/"
        },
        "id": "N1CYfoLwINQ5",
        "outputId": "159a4e79-6105-4a10-cdf5-0f27cb20ed5b"
      },
      "source": [
        "#get()\n",
        "d={'a':1,'b':2}\n",
        "d.get('a')\n"
      ],
      "execution_count": null,
      "outputs": [
        {
          "output_type": "execute_result",
          "data": {
            "text/plain": [
              "1"
            ]
          },
          "metadata": {
            "tags": []
          },
          "execution_count": 55
        }
      ]
    },
    {
      "cell_type": "code",
      "metadata": {
        "colab": {
          "base_uri": "https://localhost:8080/"
        },
        "id": "eGXMtUnrK0ch",
        "outputId": "84e12689-9ab2-4537-fc37-64419b29c091"
      },
      "source": [
        "#USER DEFINED FUNCTIONS\n",
        "# without return\n",
        "def mul(a,b):\n",
        "   print(a*b)\n",
        "\n",
        "a=2\n",
        "b=9\n",
        "mul(a,b)\n"
      ],
      "execution_count": null,
      "outputs": [
        {
          "output_type": "stream",
          "text": [
            "18\n"
          ],
          "name": "stdout"
        }
      ]
    },
    {
      "cell_type": "code",
      "metadata": {
        "colab": {
          "base_uri": "https://localhost:8080/"
        },
        "id": "nZwEXykqNRWf",
        "outputId": "aae110d8-1d76-4584-cbbb-ff8c379c0793"
      },
      "source": [
        "def cmp(a,b):\n",
        "  return a if a<b else b\n",
        "cmp(1,4)\n"
      ],
      "execution_count": null,
      "outputs": [
        {
          "output_type": "execute_result",
          "data": {
            "text/plain": [
              "1"
            ]
          },
          "metadata": {
            "tags": []
          },
          "execution_count": 62
        }
      ]
    },
    {
      "cell_type": "code",
      "metadata": {
        "colab": {
          "base_uri": "https://localhost:8080/"
        },
        "id": "DhFk9o1KPMf3",
        "outputId": "11f2df70-e96a-4222-fbfb-58cd0fef42c9"
      },
      "source": [
        "# with return\n",
        "def mul(a,b):\n",
        "   return a*b\n",
        "\n",
        "a=2\n",
        "b=9\n",
        "mul(a,b)"
      ],
      "execution_count": null,
      "outputs": [
        {
          "output_type": "execute_result",
          "data": {
            "text/plain": [
              "18"
            ]
          },
          "metadata": {
            "tags": []
          },
          "execution_count": 63
        }
      ]
    },
    {
      "cell_type": "code",
      "metadata": {
        "id": "tzdtwLlrPUmO",
        "colab": {
          "base_uri": "https://localhost:8080/"
        },
        "outputId": "d7754638-35b3-4e4e-acbe-9f36cdc1c1f4"
      },
      "source": [
        "def coding():\n",
        "     name=input()\n",
        "     print(\"Hello \"+ name+ \" Happy Coding\")\n",
        "coding()"
      ],
      "execution_count": null,
      "outputs": [
        {
          "output_type": "stream",
          "text": [
            "abs\n",
            "Hello abs Happy Coding\n"
          ],
          "name": "stdout"
        }
      ]
    },
    {
      "cell_type": "code",
      "metadata": {
        "colab": {
          "base_uri": "https://localhost:8080/"
        },
        "id": "5GmhUtFjzKgN",
        "outputId": "b29f23c0-378c-4f0b-cc24-ebfe396e8ca9"
      },
      "source": [
        "#decore function\n",
        "def wit(coding):\n",
        "  def fit(name):\n",
        "    if name=='sufiya':\n",
        "      print('smart girl')\n",
        "    else:\n",
        "      coding('shrey')\n",
        "  return fit\n",
        "@wit\n",
        "def abc(name):\n",
        "  print('no need')\n",
        "abc('weert')\n",
        "abc('sufiya')     "
      ],
      "execution_count": null,
      "outputs": [
        {
          "output_type": "stream",
          "text": [
            "no need\n",
            "smart girl\n"
          ],
          "name": "stdout"
        }
      ]
    },
    {
      "cell_type": "code",
      "metadata": {
        "id": "bTQ00KQA02gD",
        "colab": {
          "base_uri": "https://localhost:8080/"
        },
        "outputId": "3dfc90bf-e27b-442e-ac24-a076bdb6fd7d"
      },
      "source": [
        "#sps game\r\n",
        "import random\r\n",
        "print(\"Lets play game\")\r\n",
        "input(\"Enter your chance  \")\r\n",
        "h=int(random.random()*10)%3\r\n",
        "if(h==0):\r\n",
        "  print(\"Stone\")\r\n",
        "if(h==1):\r\n",
        "  print(\"Paper\")\r\n",
        "if(h==2):\r\n",
        "  print(\"Scissor\")"
      ],
      "execution_count": null,
      "outputs": [
        {
          "output_type": "stream",
          "text": [
            "Lets play game\n",
            "Enter your chance  paper\n",
            "Stone\n"
          ],
          "name": "stdout"
        }
      ]
    },
    {
      "cell_type": "code",
      "metadata": {
        "id": "JLtSf5L43nOu",
        "colab": {
          "base_uri": "https://localhost:8080/",
          "height": 35
        },
        "outputId": "e2113ba1-903c-4092-9705-18a0c93ad438"
      },
      "source": [
        "# replace()\n",
        "s=\"abcd\"\n",
        "s.replace(\"c\",\"s\")\n"
      ],
      "execution_count": null,
      "outputs": [
        {
          "output_type": "execute_result",
          "data": {
            "application/vnd.google.colaboratory.intrinsic+json": {
              "type": "string"
            },
            "text/plain": [
              "'absd'"
            ]
          },
          "metadata": {
            "tags": []
          },
          "execution_count": 3
        }
      ]
    },
    {
      "cell_type": "code",
      "metadata": {
        "colab": {
          "base_uri": "https://localhost:8080/"
        },
        "id": "R8NW9aTzFNq3",
        "outputId": "d106aff2-26ea-4d92-e858-6b257c052a33"
      },
      "source": [
        "#deposit and withdrawal\n",
        "balance=1111\n",
        "def deposit(amount):\n",
        "  global balance\n",
        "  balance+= amount\n",
        "  \n",
        "def withdrawl(amount):\n",
        "  global balance\n",
        "  balance-=amount\n",
        "\n",
        "while True:\n",
        "  choice=int(input(\"If you want to deposit then enter 1  and for withdrawal enter 2 : \"))\n",
        "  if choice==1:\n",
        "    amount=int(input(\"Enter amount to be deposit: \"))\n",
        "    deposit(amount)\n",
        "    print(balance)\n",
        "  else:\n",
        "    amount=int(input(\"Enter amount to be withdrawl:  \"))\n",
        "    withdrawl(amount)\n",
        "    print(balance)\n",
        "  \n",
        "  if input(\"You again want deposit or withdrawl then enter YES or NO \")== \"NO\":\n",
        "    break\n",
        "\n",
        "\n"
      ],
      "execution_count": null,
      "outputs": [
        {
          "output_type": "stream",
          "text": [
            "If you want to deposit then enter 1  and for withdrawal enter 2 : 1\n",
            "Enter amount to be deposit: 2000\n",
            "3111\n",
            "You again want deposit or withdrawl then enter YES or NO NO\n"
          ],
          "name": "stdout"
        }
      ]
    },
    {
      "cell_type": "code",
      "metadata": {
        "colab": {
          "base_uri": "https://localhost:8080/"
        },
        "id": "dbbJ2geOQ8Jh",
        "outputId": "c51e8c4b-971d-406f-ab3c-f37282960d21"
      },
      "source": [
        "# using class\n",
        "class Bank:\n",
        "  \n",
        "  '''def __init__(self,amount):\n",
        "    self.amount=amount'''\n",
        "\n",
        "  def deposit(self,amount):\n",
        "    global balance\n",
        "    balance+= amount\n",
        "  \n",
        "  def withdrawl(self,amount):\n",
        "    global balance\n",
        "    balance-=amount\n",
        "\n",
        "balance=1111\n",
        "while True:\n",
        "    choice=int(input(\"If you want to deposit then enter 1  and for withdrawal enter 2 : \"))\n",
        "    a=Bank()\n",
        "    if choice==1:\n",
        "      amount=int(input(\"Enter amount to be deposit: \"))\n",
        "      a.deposit(amount)\n",
        "      print(balance)\n",
        "    else:\n",
        "      amount=int(input(\"Enter amount to be withdrawl:  \"))\n",
        "      a.withdrawl(amount)\n",
        "      print(balance)\n",
        "    \n",
        "    if input(\"You again want deposit or withdrawl then enter YES or NO \")== \"NO\":\n",
        "      print(\"Have a good day  \")\n",
        "      break\n",
        "\n",
        "\n",
        "\n"
      ],
      "execution_count": null,
      "outputs": [
        {
          "output_type": "stream",
          "text": [
            "If you want to deposit then enter 1  and for withdrawal enter 2 : 1\n",
            "Enter amount to be deposit: 2300\n",
            "3411\n",
            "You again want deposit or withdrawl then enter YES or NO YES\n",
            "If you want to deposit then enter 1  and for withdrawal enter 2 : 1\n",
            "Enter amount to be deposit: 1200\n",
            "4611\n",
            "You again want deposit or withdrawl then enter YES or NO NO\n",
            "Have a good day  \n"
          ],
          "name": "stdout"
        }
      ]
    },
    {
      "cell_type": "code",
      "metadata": {
        "colab": {
          "base_uri": "https://localhost:8080/"
        },
        "id": "DlNmH-xmaX9r",
        "outputId": "2aa4bb05-6ce0-429f-853c-5de2e84ed32a"
      },
      "source": [
        "# bank system\n",
        "import random\n",
        "class Bank:\n",
        "  \n",
        "  '''def __init__(self,amount):\n",
        "    self.amount=amount'''\n",
        "\n",
        "  def account(self,name,age,gender):\n",
        "    print(\"Account number: \"+ str(random.randrange(1000000,12000000)))\n",
        "\n",
        "  def deposit(self,amount):\n",
        "    global balance\n",
        "    balance+= amount\n",
        "  \n",
        "  def withdrawl(self,amount):\n",
        "    global balance\n",
        "    balance-=amount\n",
        "\n",
        "balance=1111\n",
        "while True:\n",
        "    choice=int(input(\"If you want to deposit then enter 1  and for withdrawal enter 2 and for creating an account enter 3: \"))\n",
        "    a=Bank()\n",
        "    if choice==1:\n",
        "      amount=int(input(\"Enter amount to be deposit: \"))\n",
        "      a.deposit(amount)\n",
        "      print(balance)\n",
        "    elif choice==3:\n",
        "      name=input(\"Enter your name: \")\n",
        "      age=int(input(\"Enter your age: \"))\n",
        "      gender=input(\"Enter gender: \")\n",
        "      a.account(name,age,gender)\n",
        "\n",
        "    else:\n",
        "      amount=int(input(\"Enter amount to be withdrawl:  \"))\n",
        "      a.withdrawl(amount)\n",
        "      print(balance)\n",
        "    \n",
        "    if input(\"You again want deposit,create an account or withdrawl then enter YES or NO \")== \"NO\":\n",
        "      print(\"Have a good day  \")\n",
        "      break"
      ],
      "execution_count": null,
      "outputs": [
        {
          "output_type": "stream",
          "text": [
            "If you want to deposit then enter 1  and for withdrawal enter 2 and for creating an account enter 3: 3\n",
            "Enter your name: unnati\n",
            "Enter your age: 20\n",
            "Enter gender: female\n",
            "Account number: 4189187\n",
            "You again want deposit,create an account or withdrawl then enter YES or NO NO\n",
            "Have a good day  \n"
          ],
          "name": "stdout"
        }
      ]
    },
    {
      "cell_type": "code",
      "metadata": {
        "colab": {
          "base_uri": "https://localhost:8080/"
        },
        "id": "62DIe64OhM6V",
        "outputId": "c62c6235-0c03-4527-9131-9a2b66842380"
      },
      "source": [
        "globals"
      ],
      "execution_count": null,
      "outputs": [
        {
          "output_type": "execute_result",
          "data": {
            "text/plain": [
              "<function globals>"
            ]
          },
          "metadata": {
            "tags": []
          },
          "execution_count": 11
        }
      ]
    },
    {
      "cell_type": "code",
      "metadata": {
        "id": "XX8iPH19rItm"
      },
      "source": [
        ""
      ],
      "execution_count": null,
      "outputs": []
    }
  ]
}