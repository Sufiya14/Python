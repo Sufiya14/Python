{
  "nbformat": 4,
  "nbformat_minor": 0,
  "metadata": {
    "colab": {
      "name": "Assignment 1.ipynb",
      "provenance": []
    },
    "kernelspec": {
      "name": "python3",
      "display_name": "Python 3"
    }
  },
  "cells": [
    {
      "cell_type": "code",
      "metadata": {
        "colab": {
          "base_uri": "https://localhost:8080/"
        },
        "id": "vuqddXOa4XG0",
        "outputId": "0d3ddbd4-7fe8-4e76-c8c3-382e6467c4b6"
      },
      "source": [
        "# To count the occurence of vowels in a sentence\n",
        "Sentence=input(\"Enter a sentence \").lower()\n",
        "Vowel_count={}\n",
        "for vowel in \"aeiou\":\n",
        "    count=Sentence.count(vowel)\n",
        "    if count!=0:\n",
        "      Vowel_count[vowel]=count\n",
        " \n",
        "print(Vowel_count)"
      ],
      "execution_count": 4,
      "outputs": [
        {
          "output_type": "stream",
          "text": [
            "Enter a sentence I am a programmer\n",
            "{'a': 3, 'e': 1, 'i': 1, 'o': 1}\n"
          ],
          "name": "stdout"
        }
      ]
    }
  ]
}