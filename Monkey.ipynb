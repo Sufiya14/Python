{
  "nbformat": 4,
  "nbformat_minor": 0,
  "metadata": {
    "colab": {
      "name": "Monkey.ipynb",
      "provenance": [],
      "authorship_tag": "ABX9TyPBA1M4Bs+ljUZATrtlGx4+",
      "include_colab_link": true
    },
    "kernelspec": {
      "name": "python3",
      "display_name": "Python 3"
    },
    "language_info": {
      "name": "python"
    }
  },
  "cells": [
    {
      "cell_type": "markdown",
      "metadata": {
        "id": "view-in-github",
        "colab_type": "text"
      },
      "source": [
        "<a href=\"https://colab.research.google.com/github/Sufiya14/Python/blob/main/Monkey.ipynb\" target=\"_parent\"><img src=\"https://colab.research.google.com/assets/colab-badge.svg\" alt=\"Open In Colab\"/></a>"
      ]
    },
    {
      "cell_type": "code",
      "metadata": {
        "colab": {
          "base_uri": "https://localhost:8080/"
        },
        "id": "j_8KrPwJmoQP",
        "outputId": "94dbaabb-c27d-4bf0-a3f4-87f01603c760"
      },
      "source": [
        "# To measure distance of monkey travel .\n",
        "def monkey(max1,height,Length):\n",
        "    length = len(height)\n",
        "    if (length == 1):\n",
        "        return max(max1,height[0])\n",
        "    tempMax = 0\n",
        "    start= 0\n",
        "    temp = [0 for x in range(length-1)]\n",
        "    for index in range(1,length):\n",
        "      tempMax =height[start] + height[index] + min(index,Length-index);\n",
        "      max1 = max(tempMax, max1);\n",
        "      temp[index-1] =height[index]\n",
        "    return monkey(max1, temp,Length)\n",
        "hieghttree =[int(x) for x in input().split()]\n",
        "print(monkey(0, hieghttree,len(hieghttree)))"
      ],
      "execution_count": 4,
      "outputs": [
        {
          "output_type": "stream",
          "text": [
            "2 3\n",
            "6\n"
          ],
          "name": "stdout"
        }
      ]
    },
    {
      "cell_type": "code",
      "metadata": {
        "id": "qGoUt-FAnjcy"
      },
      "source": [
        ""
      ],
      "execution_count": null,
      "outputs": []
    }
  ]
}