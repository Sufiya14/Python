{
  "nbformat": 4,
  "nbformat_minor": 0,
  "metadata": {
    "colab": {
      "name": "Assignment2.ipynb",
      "provenance": []
    },
    "kernelspec": {
      "name": "python3",
      "display_name": "Python 3"
    }
  },
  "cells": [
    {
      "cell_type": "code",
      "metadata": {
        "id": "S32GTmrRmPfB",
        "colab": {
          "base_uri": "https://localhost:8080/"
        },
        "outputId": "d56e0381-7265-4b32-9b0b-a1c6d94a3fdc"
      },
      "source": [
        "# Secure Communication\r\n",
        "print(\"Hello MIT cell \")\r\n",
        "k=int(input(\"Please enter k value to shift original message: \"))     #Enter k value to shift the original message\r\n",
        "message=input(\"Now please type your message: \")                      #Enter original message\r\n",
        "str=\" \"                                                              # Empty string for transformed message\r\n",
        "for c in message:                                                    # for every character  in message\r\n",
        "  if c.isalpha():                                                    # if it is alphabet then shift it to k value and then add to transformed string\r\n",
        "    m=chr(ord(c)+k)\r\n",
        "    str+=m\r\n",
        "  elif c== \" \":                                                      # if it is space then add \"@\" to transformed string                            \r\n",
        "    str+=\"@\"\r\n",
        "  elif c==\".\":                                                        # if it is dot then add \"#\" to transformed string        \r\n",
        "    str+=\"#\"\r\n",
        "  else:                                                               # else add c as it is into transformed string        \r\n",
        "    str+=c\r\n",
        "print(\"Hello you send : \"+str)\r\n",
        "print(\"\\nHello instructor \")\r\n",
        "print(\"You got a message: \"+str)\r\n",
        "p=int(input(\"To read this in original please type k value provided by Cell: \")) # To read original message enter the k value provided by MIT cell\r\n",
        "if p==k:                                                                        # if the value enter by instructor matches with k value then show the original message to instructor.\r\n",
        "  print(\"Original message: \"+message)\r\n"
      ],
      "execution_count": 4,
      "outputs": [
        {
          "output_type": "stream",
          "text": [
            "Hello MIT cell \n",
            "Please enter k value to shift original message: 3\n",
            "Now please type your message: abcd%*.A\n",
            "Hello you send :  defg%*#D\n",
            "\n",
            "Hello instructor \n",
            "You got a message:  defg%*#D\n",
            "To read this in original please type k value provided by Cell: 3\n",
            "Original message: abcd%*.A\n"
          ],
          "name": "stdout"
        }
      ]
    },
    {
      "cell_type": "code",
      "metadata": {
        "id": "1lifnO_QomFS"
      },
      "source": [
        ""
      ],
      "execution_count": 3,
      "outputs": []
    }
  ]
}