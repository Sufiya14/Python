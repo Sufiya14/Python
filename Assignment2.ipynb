{
  "nbformat": 4,
  "nbformat_minor": 0,
  "metadata": {
    "colab": {
      "name": "Assignment2.ipynb",
      "provenance": [],
      "authorship_tag": "ABX9TyNtcl9O2V7zRg6BvO6eLHhC",
      "include_colab_link": true
    },
    "kernelspec": {
      "name": "python3",
      "display_name": "Python 3"
    }
  },
  "cells": [
    {
      "cell_type": "markdown",
      "metadata": {
        "id": "view-in-github",
        "colab_type": "text"
      },
      "source": [
        "<a href=\"https://colab.research.google.com/github/Sufiya14/Python/blob/main/Assignment2.ipynb\" target=\"_parent\"><img src=\"https://colab.research.google.com/assets/colab-badge.svg\" alt=\"Open In Colab\"/></a>"
      ]
    },
    {
      "cell_type": "code",
      "metadata": {
        "id": "S32GTmrRmPfB",
        "colab": {
          "base_uri": "https://localhost:8080/"
        },
        "outputId": "e855a6d1-cd78-4dd7-c414-7866006babd3"
      },
      "source": [
        "# Secure Communication\r\n",
        "print(\"Hello MIT cell \")\r\n",
        "k=int(input(\"Please enter k value to shift original message: \"))     #Enter k value to shift the original message\r\n",
        "message=input(\"Now please type your message: \")                      #Enter original message\r\n",
        "str1=\" \"                                                              # Empty string for transformed message\r\n",
        "for c in message:                                                    # for every character  in message\r\n",
        "  if c.isalpha():                                                    # if it is alphabet then shift it to k value and then add to transformed string\r\n",
        "    m=chr(ord(c)+k)\r\n",
        "    str1+=m\r\n",
        "  elif c== \" \":                                                      # if it is space then add \"@\" to transformed string                            \r\n",
        "    str1+=\"@\"\r\n",
        "  elif c==\".\":                                                        # if it is dot then add \"#\" to transformed string        \r\n",
        "    str1+=\"#\"\r\n",
        "  else:                                                               # else add c as it is into transformed string        \r\n",
        "    str1+=c\r\n",
        "print(\"Hello you send : \"+str1)\r\n",
        "print(\"\\nHello instructor \")\r\n",
        "print(\"You got a message: \"+str1)\r\n",
        "p=int(input(\"To read this in original please type k value provided by Cell: \")) # To read original message enter the k value provided by MIT cell\r\n",
        "if p==k:                                                                        # if the value enter by instructor matches with k value then show the original message to instructor.\r\n",
        "  print(\"Original message: \"+message)\r\n"
      ],
      "execution_count": 5,
      "outputs": [
        {
          "output_type": "stream",
          "text": [
            "Hello MIT cell \n",
            "Please enter k value to shift original message: 2\n",
            "Now please type your message: absg. f\n",
            "Hello you send :  cdui#@h\n",
            "\n",
            "Hello instructor \n",
            "You got a message:  cdui#@h\n",
            "To read this in original please type k value provided by Cell: 2\n",
            "Original message: absg. f\n"
          ],
          "name": "stdout"
        }
      ]
    },
    {
      "cell_type": "code",
      "metadata": {
        "id": "1lifnO_QomFS"
      },
      "source": [
        "1"
      ],
      "execution_count": null,
      "outputs": []
    }
  ]
}