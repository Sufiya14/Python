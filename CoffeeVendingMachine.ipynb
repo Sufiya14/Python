{
  "nbformat": 4,
  "nbformat_minor": 0,
  "metadata": {
    "colab": {
      "name": "CoffeeVendingMachine.ipynb",
      "provenance": [],
      "authorship_tag": "ABX9TyPzShmcLP8oU8eGvMuw4Th+",
      "include_colab_link": true
    },
    "kernelspec": {
      "name": "python3",
      "display_name": "Python 3"
    }
  },
  "cells": [
    {
      "cell_type": "markdown",
      "metadata": {
        "id": "view-in-github",
        "colab_type": "text"
      },
      "source": [
        "<a href=\"https://colab.research.google.com/github/Sufiya14/Python/blob/main/CoffeeVendingMachine.ipynb\" target=\"_parent\"><img src=\"https://colab.research.google.com/assets/colab-badge.svg\" alt=\"Open In Colab\"/></a>"
      ]
    },
    {
      "cell_type": "code",
      "metadata": {
        "colab": {
          "base_uri": "https://localhost:8080/"
        },
        "id": "3LGGdG_YzZ_n",
        "outputId": "0136f8fb-ef8e-4327-c3b0-ffaf28e02c6a"
      },
      "source": [
        "# TEA/COFFEE VENDING MACHINE. \n",
        "class Ingredients:       #class ingredients\n",
        "  def __init__(self,instant_coffee,sugar,milk,water):  #define __init__() for all ingredients\n",
        "    self.instant_coffee=instant_coffee\n",
        "    self.sugar=sugar\n",
        "    self.milk=milk\n",
        "    self.water=water\n",
        "class coffee(Ingredients): # class coffee that inherits class ingredients\n",
        "  def __init__(self,name,instant_coffee,sugar,milk,water):\n",
        "    super().__init__(instant_coffee,sugar,milk,water)    #use super() to inherits the class without it ,and using __init__() does not allow inheritance .\n",
        "    self.name=name\n",
        "  def make(self):\n",
        "    if self.milk==\"0\" and self.water ==\"0\": #if the customer wants no milk,no water then the coffee can't be prepared.\n",
        "      print(\"TEA / Coffee Vending Machine does'not have sufficient ingredients\")\n",
        "    else:\n",
        "      print(\"TEA / Coffee Vending Machine has prepared\")\n",
        " \n",
        "customer={}\n",
        "while(True):\n",
        "  t=input(\"TEA / Coffee Vending Machine \\n The TEA / Coffee machine works according to requirements \\n Press e for exit ... \\n Enter your name \")\n",
        "  if t==\"e\":   # when there is no customer.\n",
        "    break\n",
        "  elif t in customer:   #if customer name matches with old customer information.\n",
        "    print(\"Machine start prepare TEA / Coffee\")\n",
        "    make_coffee=coffee(t,customer[t][0],customer[t][1],customer[t][2],customer[t][3])\n",
        "    make_coffee.make()\n",
        "    break\n",
        "  else: #if the customer is new.\n",
        "    ingredients=[0,0,0,0]\n",
        "    print(\"Select the Ingredients \\n Press 1: instant_coffee \\n 2: Sugar \\n 3:Milk \\n 4: Water \\n Press 5: When you are done with ingredients\")\n",
        "    while(True):#take input four ingredients. \n",
        "      ingredient=input()\n",
        "      if ingredient == \"5\":\n",
        "        break\n",
        "      else:\n",
        "        ingredients.insert(int(ingredient)-1,ingredient) #insert it into list.\n",
        "    customer[t]=ingredients # now add to customer dictionary."
      ],
      "execution_count": 6,
      "outputs": [
        {
          "output_type": "stream",
          "text": [
            "TEA / Coffee Vending Machine \n",
            " The TEA / Coffee machine works according to requirements \n",
            " Press e for exit ... \n",
            " Enter your name Sufiya\n",
            "Select the Ingredients \n",
            " Press 1: instant_coffee \n",
            " 2: Sugar \n",
            " 3:Milk \n",
            " 4: Water \n",
            " Press 5: When you are done with ingredients\n",
            "1\n",
            "1\n",
            "2\n",
            "1\n",
            "5\n",
            "TEA / Coffee Vending Machine \n",
            " The TEA / Coffee machine works according to requirements \n",
            " Press e for exit ... \n",
            " Enter your name Sufiya\n",
            "Machine start prepare TEA / Coffee\n",
            "TEA / Coffee Vending Machine has prepared\n"
          ],
          "name": "stdout"
        }
      ]
    }
  ]
}